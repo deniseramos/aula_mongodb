{
 "cells": [
  {
   "cell_type": "code",
   "execution_count": 44,
   "metadata": {},
   "outputs": [],
   "source": [
    "import pandas as pd\n",
    "from pymongo import MongoClient\n",
    "from flask import Flask, request\n",
    "import matplotlib.pyplot as plt"
   ]
  },
  {
   "cell_type": "code",
   "execution_count": 32,
   "metadata": {},
   "outputs": [
    {
     "data": {
      "text/html": [
       "<div>\n",
       "<style scoped>\n",
       "    .dataframe tbody tr th:only-of-type {\n",
       "        vertical-align: middle;\n",
       "    }\n",
       "\n",
       "    .dataframe tbody tr th {\n",
       "        vertical-align: top;\n",
       "    }\n",
       "\n",
       "    .dataframe thead th {\n",
       "        text-align: right;\n",
       "    }\n",
       "</style>\n",
       "<table border=\"1\" class=\"dataframe\">\n",
       "  <thead>\n",
       "    <tr style=\"text-align: right;\">\n",
       "      <th></th>\n",
       "      <th>qte_banheiros</th>\n",
       "      <th>qte_quartos</th>\n",
       "      <th>area</th>\n",
       "      <th>cep</th>\n",
       "      <th>preco</th>\n",
       "    </tr>\n",
       "  </thead>\n",
       "  <tbody>\n",
       "    <tr>\n",
       "      <th>0</th>\n",
       "      <td>4.0</td>\n",
       "      <td>3.0</td>\n",
       "      <td>3923</td>\n",
       "      <td>85266</td>\n",
       "      <td>889000.0</td>\n",
       "    </tr>\n",
       "    <tr>\n",
       "      <th>1</th>\n",
       "      <td>5.0</td>\n",
       "      <td>5.0</td>\n",
       "      <td>4022</td>\n",
       "      <td>85262</td>\n",
       "      <td>910000.0</td>\n",
       "    </tr>\n",
       "    <tr>\n",
       "      <th>2</th>\n",
       "      <td>4.0</td>\n",
       "      <td>3.0</td>\n",
       "      <td>4116</td>\n",
       "      <td>85266</td>\n",
       "      <td>971226.0</td>\n",
       "    </tr>\n",
       "    <tr>\n",
       "      <th>3</th>\n",
       "      <td>5.0</td>\n",
       "      <td>4.0</td>\n",
       "      <td>4581</td>\n",
       "      <td>85266</td>\n",
       "      <td>1249000.0</td>\n",
       "    </tr>\n",
       "    <tr>\n",
       "      <th>4</th>\n",
       "      <td>4.0</td>\n",
       "      <td>3.0</td>\n",
       "      <td>2544</td>\n",
       "      <td>85262</td>\n",
       "      <td>799000.0</td>\n",
       "    </tr>\n",
       "    <tr>\n",
       "      <th>...</th>\n",
       "      <td>...</td>\n",
       "      <td>...</td>\n",
       "      <td>...</td>\n",
       "      <td>...</td>\n",
       "      <td>...</td>\n",
       "    </tr>\n",
       "    <tr>\n",
       "      <th>517</th>\n",
       "      <td>2.0</td>\n",
       "      <td>5.0</td>\n",
       "      <td>2066</td>\n",
       "      <td>94531</td>\n",
       "      <td>399900.0</td>\n",
       "    </tr>\n",
       "    <tr>\n",
       "      <th>518</th>\n",
       "      <td>3.5</td>\n",
       "      <td>4.0</td>\n",
       "      <td>9536</td>\n",
       "      <td>94531</td>\n",
       "      <td>460000.0</td>\n",
       "    </tr>\n",
       "    <tr>\n",
       "      <th>519</th>\n",
       "      <td>2.0</td>\n",
       "      <td>3.0</td>\n",
       "      <td>2014</td>\n",
       "      <td>94531</td>\n",
       "      <td>407000.0</td>\n",
       "    </tr>\n",
       "    <tr>\n",
       "      <th>520</th>\n",
       "      <td>3.0</td>\n",
       "      <td>4.0</td>\n",
       "      <td>2312</td>\n",
       "      <td>94531</td>\n",
       "      <td>419000.0</td>\n",
       "    </tr>\n",
       "    <tr>\n",
       "      <th>521</th>\n",
       "      <td>3.0</td>\n",
       "      <td>5.0</td>\n",
       "      <td>3796</td>\n",
       "      <td>94531</td>\n",
       "      <td>615000.0</td>\n",
       "    </tr>\n",
       "  </tbody>\n",
       "</table>\n",
       "<p>522 rows × 5 columns</p>\n",
       "</div>"
      ],
      "text/plain": [
       "     qte_banheiros  qte_quartos  area    cep      preco\n",
       "0              4.0          3.0  3923  85266   889000.0\n",
       "1              5.0          5.0  4022  85262   910000.0\n",
       "2              4.0          3.0  4116  85266   971226.0\n",
       "3              5.0          4.0  4581  85266  1249000.0\n",
       "4              4.0          3.0  2544  85262   799000.0\n",
       "..             ...          ...   ...    ...        ...\n",
       "517            2.0          5.0  2066  94531   399900.0\n",
       "518            3.5          4.0  9536  94531   460000.0\n",
       "519            2.0          3.0  2014  94531   407000.0\n",
       "520            3.0          4.0  2312  94531   419000.0\n",
       "521            3.0          5.0  3796  94531   615000.0\n",
       "\n",
       "[522 rows x 5 columns]"
      ]
     },
     "execution_count": 32,
     "metadata": {},
     "output_type": "execute_result"
    }
   ],
   "source": [
    "#lendo csv e importando para df\n",
    "df = pd.read_csv(r'C:\\Users\\Denise_\\Documents\\Pi_DS\\Módulo 4\\Arqs\\imob.csv')\n",
    "df = df.drop(columns=['Unnamed: 0'])\n",
    "df = df[['qte_banheiros', 'qte_quartos', 'area', 'cep', 'preco']]\n",
    "df"
   ]
  },
  {
   "cell_type": "code",
   "execution_count": 12,
   "metadata": {},
   "outputs": [],
   "source": [
    "#criando collection 'imobiliaria'\n",
    "client = MongoClient('mongodb://localhost:27017', retryWrites=False)\n",
    "mydb = client[\"cadastro\"]\n",
    "mycol = mydb[\"imobiliaria\"]"
   ]
  },
  {
   "cell_type": "code",
   "execution_count": 36,
   "metadata": {},
   "outputs": [
    {
     "name": "stdout",
     "output_type": "stream",
     "text": [
      "[ObjectId('5e5523949aa915acf97b9c2f'), ObjectId('5e5523949aa915acf97b9c30'), ObjectId('5e5523949aa915acf97b9c31'), ObjectId('5e5523949aa915acf97b9c32'), ObjectId('5e5523949aa915acf97b9c33'), ObjectId('5e5523949aa915acf97b9c34'), ObjectId('5e5523949aa915acf97b9c35'), ObjectId('5e5523949aa915acf97b9c36'), ObjectId('5e5523949aa915acf97b9c37'), ObjectId('5e5523949aa915acf97b9c38'), ObjectId('5e5523949aa915acf97b9c39'), ObjectId('5e5523949aa915acf97b9c3a'), ObjectId('5e5523949aa915acf97b9c3b'), ObjectId('5e5523949aa915acf97b9c3c'), ObjectId('5e5523949aa915acf97b9c3d'), ObjectId('5e5523949aa915acf97b9c3e'), ObjectId('5e5523949aa915acf97b9c3f'), ObjectId('5e5523949aa915acf97b9c40'), ObjectId('5e5523949aa915acf97b9c41'), ObjectId('5e5523949aa915acf97b9c42'), ObjectId('5e5523949aa915acf97b9c43'), ObjectId('5e5523949aa915acf97b9c44'), ObjectId('5e5523949aa915acf97b9c45'), ObjectId('5e5523949aa915acf97b9c46'), ObjectId('5e5523949aa915acf97b9c47'), ObjectId('5e5523949aa915acf97b9c48'), ObjectId('5e5523949aa915acf97b9c49'), ObjectId('5e5523949aa915acf97b9c4a'), ObjectId('5e5523949aa915acf97b9c4b'), ObjectId('5e5523949aa915acf97b9c4c'), ObjectId('5e5523949aa915acf97b9c4d'), ObjectId('5e5523949aa915acf97b9c4e'), ObjectId('5e5523949aa915acf97b9c4f'), ObjectId('5e5523949aa915acf97b9c50'), ObjectId('5e5523949aa915acf97b9c51'), ObjectId('5e5523949aa915acf97b9c52'), ObjectId('5e5523949aa915acf97b9c53'), ObjectId('5e5523949aa915acf97b9c54'), ObjectId('5e5523949aa915acf97b9c55'), ObjectId('5e5523949aa915acf97b9c56'), ObjectId('5e5523949aa915acf97b9c57'), ObjectId('5e5523949aa915acf97b9c58'), ObjectId('5e5523949aa915acf97b9c59'), ObjectId('5e5523949aa915acf97b9c5a'), ObjectId('5e5523949aa915acf97b9c5b'), ObjectId('5e5523949aa915acf97b9c5c'), ObjectId('5e5523949aa915acf97b9c5d'), ObjectId('5e5523949aa915acf97b9c5e'), ObjectId('5e5523949aa915acf97b9c5f'), ObjectId('5e5523949aa915acf97b9c60'), ObjectId('5e5523949aa915acf97b9c61'), ObjectId('5e5523949aa915acf97b9c62'), ObjectId('5e5523949aa915acf97b9c63'), ObjectId('5e5523949aa915acf97b9c64'), ObjectId('5e5523949aa915acf97b9c65'), ObjectId('5e5523949aa915acf97b9c66'), ObjectId('5e5523949aa915acf97b9c67'), ObjectId('5e5523949aa915acf97b9c68'), ObjectId('5e5523949aa915acf97b9c69'), ObjectId('5e5523949aa915acf97b9c6a'), ObjectId('5e5523949aa915acf97b9c6b'), ObjectId('5e5523949aa915acf97b9c6c'), ObjectId('5e5523949aa915acf97b9c6d'), ObjectId('5e5523949aa915acf97b9c6e'), ObjectId('5e5523949aa915acf97b9c6f'), ObjectId('5e5523949aa915acf97b9c70'), ObjectId('5e5523949aa915acf97b9c71'), ObjectId('5e5523949aa915acf97b9c72'), ObjectId('5e5523949aa915acf97b9c73'), ObjectId('5e5523949aa915acf97b9c74'), ObjectId('5e5523949aa915acf97b9c75'), ObjectId('5e5523949aa915acf97b9c76'), ObjectId('5e5523949aa915acf97b9c77'), ObjectId('5e5523949aa915acf97b9c78'), ObjectId('5e5523949aa915acf97b9c79'), ObjectId('5e5523949aa915acf97b9c7a'), ObjectId('5e5523949aa915acf97b9c7b'), ObjectId('5e5523949aa915acf97b9c7c'), ObjectId('5e5523949aa915acf97b9c7d'), ObjectId('5e5523949aa915acf97b9c7e'), ObjectId('5e5523949aa915acf97b9c7f'), ObjectId('5e5523949aa915acf97b9c80'), ObjectId('5e5523949aa915acf97b9c81'), ObjectId('5e5523949aa915acf97b9c82'), ObjectId('5e5523949aa915acf97b9c83'), ObjectId('5e5523949aa915acf97b9c84'), ObjectId('5e5523949aa915acf97b9c85'), ObjectId('5e5523949aa915acf97b9c86'), ObjectId('5e5523949aa915acf97b9c87'), ObjectId('5e5523949aa915acf97b9c88'), ObjectId('5e5523949aa915acf97b9c89'), ObjectId('5e5523949aa915acf97b9c8a'), ObjectId('5e5523949aa915acf97b9c8b'), ObjectId('5e5523949aa915acf97b9c8c'), ObjectId('5e5523949aa915acf97b9c8d'), ObjectId('5e5523949aa915acf97b9c8e'), ObjectId('5e5523949aa915acf97b9c8f'), ObjectId('5e5523949aa915acf97b9c90'), ObjectId('5e5523949aa915acf97b9c91'), ObjectId('5e5523949aa915acf97b9c92'), ObjectId('5e5523949aa915acf97b9c93'), ObjectId('5e5523949aa915acf97b9c94'), ObjectId('5e5523949aa915acf97b9c95'), ObjectId('5e5523949aa915acf97b9c96'), ObjectId('5e5523949aa915acf97b9c97'), ObjectId('5e5523949aa915acf97b9c98'), ObjectId('5e5523949aa915acf97b9c99'), ObjectId('5e5523949aa915acf97b9c9a'), ObjectId('5e5523949aa915acf97b9c9b'), ObjectId('5e5523949aa915acf97b9c9c'), ObjectId('5e5523949aa915acf97b9c9d'), ObjectId('5e5523949aa915acf97b9c9e'), ObjectId('5e5523949aa915acf97b9c9f'), ObjectId('5e5523949aa915acf97b9ca0'), ObjectId('5e5523949aa915acf97b9ca1'), ObjectId('5e5523949aa915acf97b9ca2'), ObjectId('5e5523949aa915acf97b9ca3'), ObjectId('5e5523949aa915acf97b9ca4'), ObjectId('5e5523949aa915acf97b9ca5'), ObjectId('5e5523949aa915acf97b9ca6'), ObjectId('5e5523949aa915acf97b9ca7'), ObjectId('5e5523949aa915acf97b9ca8'), ObjectId('5e5523949aa915acf97b9ca9'), ObjectId('5e5523949aa915acf97b9caa'), ObjectId('5e5523949aa915acf97b9cab'), ObjectId('5e5523949aa915acf97b9cac'), ObjectId('5e5523949aa915acf97b9cad'), ObjectId('5e5523949aa915acf97b9cae'), ObjectId('5e5523949aa915acf97b9caf'), ObjectId('5e5523949aa915acf97b9cb0'), ObjectId('5e5523949aa915acf97b9cb1'), ObjectId('5e5523949aa915acf97b9cb2'), ObjectId('5e5523949aa915acf97b9cb3'), ObjectId('5e5523949aa915acf97b9cb4'), ObjectId('5e5523949aa915acf97b9cb5'), ObjectId('5e5523949aa915acf97b9cb6'), ObjectId('5e5523949aa915acf97b9cb7'), ObjectId('5e5523949aa915acf97b9cb8'), ObjectId('5e5523949aa915acf97b9cb9'), ObjectId('5e5523949aa915acf97b9cba'), ObjectId('5e5523949aa915acf97b9cbb'), ObjectId('5e5523949aa915acf97b9cbc'), ObjectId('5e5523949aa915acf97b9cbd'), ObjectId('5e5523949aa915acf97b9cbe'), ObjectId('5e5523949aa915acf97b9cbf'), ObjectId('5e5523949aa915acf97b9cc0'), ObjectId('5e5523949aa915acf97b9cc1'), ObjectId('5e5523949aa915acf97b9cc2'), ObjectId('5e5523949aa915acf97b9cc3'), ObjectId('5e5523949aa915acf97b9cc4'), ObjectId('5e5523949aa915acf97b9cc5'), ObjectId('5e5523949aa915acf97b9cc6'), ObjectId('5e5523949aa915acf97b9cc7'), ObjectId('5e5523949aa915acf97b9cc8'), ObjectId('5e5523949aa915acf97b9cc9'), ObjectId('5e5523949aa915acf97b9cca'), ObjectId('5e5523949aa915acf97b9ccb'), ObjectId('5e5523949aa915acf97b9ccc'), ObjectId('5e5523949aa915acf97b9ccd'), ObjectId('5e5523949aa915acf97b9cce'), ObjectId('5e5523949aa915acf97b9ccf'), ObjectId('5e5523949aa915acf97b9cd0'), ObjectId('5e5523949aa915acf97b9cd1'), ObjectId('5e5523949aa915acf97b9cd2'), ObjectId('5e5523949aa915acf97b9cd3'), ObjectId('5e5523949aa915acf97b9cd4'), ObjectId('5e5523949aa915acf97b9cd5'), ObjectId('5e5523949aa915acf97b9cd6'), ObjectId('5e5523949aa915acf97b9cd7'), ObjectId('5e5523949aa915acf97b9cd8'), ObjectId('5e5523949aa915acf97b9cd9'), ObjectId('5e5523949aa915acf97b9cda'), ObjectId('5e5523949aa915acf97b9cdb'), ObjectId('5e5523949aa915acf97b9cdc'), ObjectId('5e5523949aa915acf97b9cdd'), ObjectId('5e5523949aa915acf97b9cde'), ObjectId('5e5523949aa915acf97b9cdf'), ObjectId('5e5523949aa915acf97b9ce0'), ObjectId('5e5523949aa915acf97b9ce1'), ObjectId('5e5523949aa915acf97b9ce2'), ObjectId('5e5523949aa915acf97b9ce3'), ObjectId('5e5523949aa915acf97b9ce4'), ObjectId('5e5523949aa915acf97b9ce5'), ObjectId('5e5523949aa915acf97b9ce6'), ObjectId('5e5523949aa915acf97b9ce7'), ObjectId('5e5523949aa915acf97b9ce8'), ObjectId('5e5523949aa915acf97b9ce9'), ObjectId('5e5523949aa915acf97b9cea'), ObjectId('5e5523949aa915acf97b9ceb'), ObjectId('5e5523949aa915acf97b9cec'), ObjectId('5e5523949aa915acf97b9ced'), ObjectId('5e5523949aa915acf97b9cee'), ObjectId('5e5523949aa915acf97b9cef'), ObjectId('5e5523949aa915acf97b9cf0'), ObjectId('5e5523949aa915acf97b9cf1'), ObjectId('5e5523949aa915acf97b9cf2'), ObjectId('5e5523949aa915acf97b9cf3'), ObjectId('5e5523949aa915acf97b9cf4'), ObjectId('5e5523949aa915acf97b9cf5'), ObjectId('5e5523949aa915acf97b9cf6'), ObjectId('5e5523949aa915acf97b9cf7'), ObjectId('5e5523949aa915acf97b9cf8'), ObjectId('5e5523949aa915acf97b9cf9'), ObjectId('5e5523949aa915acf97b9cfa'), ObjectId('5e5523949aa915acf97b9cfb'), ObjectId('5e5523949aa915acf97b9cfc'), ObjectId('5e5523949aa915acf97b9cfd'), ObjectId('5e5523949aa915acf97b9cfe'), ObjectId('5e5523949aa915acf97b9cff'), ObjectId('5e5523949aa915acf97b9d00'), ObjectId('5e5523949aa915acf97b9d01'), ObjectId('5e5523949aa915acf97b9d02'), ObjectId('5e5523949aa915acf97b9d03'), ObjectId('5e5523949aa915acf97b9d04'), ObjectId('5e5523949aa915acf97b9d05'), ObjectId('5e5523949aa915acf97b9d06'), ObjectId('5e5523949aa915acf97b9d07'), ObjectId('5e5523949aa915acf97b9d08'), ObjectId('5e5523949aa915acf97b9d09'), ObjectId('5e5523949aa915acf97b9d0a'), ObjectId('5e5523949aa915acf97b9d0b'), ObjectId('5e5523949aa915acf97b9d0c'), ObjectId('5e5523949aa915acf97b9d0d'), ObjectId('5e5523949aa915acf97b9d0e'), ObjectId('5e5523949aa915acf97b9d0f'), ObjectId('5e5523949aa915acf97b9d10'), ObjectId('5e5523949aa915acf97b9d11'), ObjectId('5e5523949aa915acf97b9d12'), ObjectId('5e5523949aa915acf97b9d13'), ObjectId('5e5523949aa915acf97b9d14'), ObjectId('5e5523949aa915acf97b9d15'), ObjectId('5e5523949aa915acf97b9d16'), ObjectId('5e5523949aa915acf97b9d17'), ObjectId('5e5523949aa915acf97b9d18'), ObjectId('5e5523949aa915acf97b9d19'), ObjectId('5e5523949aa915acf97b9d1a'), ObjectId('5e5523949aa915acf97b9d1b'), ObjectId('5e5523949aa915acf97b9d1c'), ObjectId('5e5523949aa915acf97b9d1d'), ObjectId('5e5523949aa915acf97b9d1e'), ObjectId('5e5523949aa915acf97b9d1f'), ObjectId('5e5523949aa915acf97b9d20'), ObjectId('5e5523949aa915acf97b9d21'), ObjectId('5e5523949aa915acf97b9d22'), ObjectId('5e5523949aa915acf97b9d23'), ObjectId('5e5523949aa915acf97b9d24'), ObjectId('5e5523949aa915acf97b9d25'), ObjectId('5e5523949aa915acf97b9d26'), ObjectId('5e5523949aa915acf97b9d27'), ObjectId('5e5523949aa915acf97b9d28'), ObjectId('5e5523949aa915acf97b9d29'), ObjectId('5e5523949aa915acf97b9d2a'), ObjectId('5e5523949aa915acf97b9d2b'), ObjectId('5e5523949aa915acf97b9d2c'), ObjectId('5e5523949aa915acf97b9d2d'), ObjectId('5e5523949aa915acf97b9d2e'), ObjectId('5e5523949aa915acf97b9d2f'), ObjectId('5e5523949aa915acf97b9d30'), ObjectId('5e5523949aa915acf97b9d31'), ObjectId('5e5523949aa915acf97b9d32'), ObjectId('5e5523949aa915acf97b9d33'), ObjectId('5e5523949aa915acf97b9d34'), ObjectId('5e5523949aa915acf97b9d35'), ObjectId('5e5523949aa915acf97b9d36'), ObjectId('5e5523949aa915acf97b9d37'), ObjectId('5e5523949aa915acf97b9d38'), ObjectId('5e5523949aa915acf97b9d39'), ObjectId('5e5523949aa915acf97b9d3a'), ObjectId('5e5523949aa915acf97b9d3b'), ObjectId('5e5523949aa915acf97b9d3c'), ObjectId('5e5523949aa915acf97b9d3d'), ObjectId('5e5523949aa915acf97b9d3e'), ObjectId('5e5523949aa915acf97b9d3f'), ObjectId('5e5523949aa915acf97b9d40'), ObjectId('5e5523949aa915acf97b9d41'), ObjectId('5e5523949aa915acf97b9d42'), ObjectId('5e5523949aa915acf97b9d43'), ObjectId('5e5523949aa915acf97b9d44'), ObjectId('5e5523949aa915acf97b9d45'), ObjectId('5e5523949aa915acf97b9d46'), ObjectId('5e5523949aa915acf97b9d47'), ObjectId('5e5523949aa915acf97b9d48'), ObjectId('5e5523949aa915acf97b9d49'), ObjectId('5e5523949aa915acf97b9d4a'), ObjectId('5e5523949aa915acf97b9d4b'), ObjectId('5e5523949aa915acf97b9d4c'), ObjectId('5e5523949aa915acf97b9d4d'), ObjectId('5e5523949aa915acf97b9d4e'), ObjectId('5e5523949aa915acf97b9d4f'), ObjectId('5e5523949aa915acf97b9d50'), ObjectId('5e5523949aa915acf97b9d51'), ObjectId('5e5523949aa915acf97b9d52'), ObjectId('5e5523949aa915acf97b9d53'), ObjectId('5e5523949aa915acf97b9d54'), ObjectId('5e5523949aa915acf97b9d55'), ObjectId('5e5523949aa915acf97b9d56'), ObjectId('5e5523949aa915acf97b9d57'), ObjectId('5e5523949aa915acf97b9d58'), ObjectId('5e5523949aa915acf97b9d59'), ObjectId('5e5523949aa915acf97b9d5a'), ObjectId('5e5523949aa915acf97b9d5b'), ObjectId('5e5523949aa915acf97b9d5c'), ObjectId('5e5523949aa915acf97b9d5d'), ObjectId('5e5523949aa915acf97b9d5e'), ObjectId('5e5523949aa915acf97b9d5f'), ObjectId('5e5523949aa915acf97b9d60'), ObjectId('5e5523949aa915acf97b9d61'), ObjectId('5e5523949aa915acf97b9d62'), ObjectId('5e5523949aa915acf97b9d63'), ObjectId('5e5523949aa915acf97b9d64'), ObjectId('5e5523949aa915acf97b9d65'), ObjectId('5e5523949aa915acf97b9d66'), ObjectId('5e5523949aa915acf97b9d67'), ObjectId('5e5523949aa915acf97b9d68'), ObjectId('5e5523949aa915acf97b9d69'), ObjectId('5e5523949aa915acf97b9d6a'), ObjectId('5e5523949aa915acf97b9d6b'), ObjectId('5e5523949aa915acf97b9d6c'), ObjectId('5e5523949aa915acf97b9d6d'), ObjectId('5e5523949aa915acf97b9d6e'), ObjectId('5e5523949aa915acf97b9d6f'), ObjectId('5e5523949aa915acf97b9d70'), ObjectId('5e5523949aa915acf97b9d71'), ObjectId('5e5523949aa915acf97b9d72'), ObjectId('5e5523949aa915acf97b9d73'), ObjectId('5e5523949aa915acf97b9d74'), ObjectId('5e5523949aa915acf97b9d75'), ObjectId('5e5523949aa915acf97b9d76'), ObjectId('5e5523949aa915acf97b9d77'), ObjectId('5e5523949aa915acf97b9d78'), ObjectId('5e5523949aa915acf97b9d79'), ObjectId('5e5523949aa915acf97b9d7a'), ObjectId('5e5523949aa915acf97b9d7b'), ObjectId('5e5523949aa915acf97b9d7c'), ObjectId('5e5523949aa915acf97b9d7d'), ObjectId('5e5523949aa915acf97b9d7e'), ObjectId('5e5523949aa915acf97b9d7f'), ObjectId('5e5523949aa915acf97b9d80'), ObjectId('5e5523949aa915acf97b9d81'), ObjectId('5e5523949aa915acf97b9d82'), ObjectId('5e5523949aa915acf97b9d83'), ObjectId('5e5523949aa915acf97b9d84'), ObjectId('5e5523949aa915acf97b9d85'), ObjectId('5e5523949aa915acf97b9d86'), ObjectId('5e5523949aa915acf97b9d87'), ObjectId('5e5523949aa915acf97b9d88'), ObjectId('5e5523949aa915acf97b9d89'), ObjectId('5e5523949aa915acf97b9d8a'), ObjectId('5e5523949aa915acf97b9d8b'), ObjectId('5e5523949aa915acf97b9d8c'), ObjectId('5e5523949aa915acf97b9d8d'), ObjectId('5e5523949aa915acf97b9d8e'), ObjectId('5e5523949aa915acf97b9d8f'), ObjectId('5e5523949aa915acf97b9d90'), ObjectId('5e5523949aa915acf97b9d91'), ObjectId('5e5523949aa915acf97b9d92'), ObjectId('5e5523949aa915acf97b9d93'), ObjectId('5e5523949aa915acf97b9d94'), ObjectId('5e5523949aa915acf97b9d95'), ObjectId('5e5523949aa915acf97b9d96'), ObjectId('5e5523949aa915acf97b9d97'), ObjectId('5e5523949aa915acf97b9d98'), ObjectId('5e5523949aa915acf97b9d99'), ObjectId('5e5523949aa915acf97b9d9a'), ObjectId('5e5523949aa915acf97b9d9b'), ObjectId('5e5523949aa915acf97b9d9c'), ObjectId('5e5523949aa915acf97b9d9d'), ObjectId('5e5523949aa915acf97b9d9e'), ObjectId('5e5523949aa915acf97b9d9f'), ObjectId('5e5523949aa915acf97b9da0'), ObjectId('5e5523949aa915acf97b9da1'), ObjectId('5e5523949aa915acf97b9da2'), ObjectId('5e5523949aa915acf97b9da3'), ObjectId('5e5523949aa915acf97b9da4'), ObjectId('5e5523949aa915acf97b9da5'), ObjectId('5e5523949aa915acf97b9da6'), ObjectId('5e5523949aa915acf97b9da7'), ObjectId('5e5523949aa915acf97b9da8'), ObjectId('5e5523949aa915acf97b9da9'), ObjectId('5e5523949aa915acf97b9daa'), ObjectId('5e5523949aa915acf97b9dab'), ObjectId('5e5523949aa915acf97b9dac'), ObjectId('5e5523949aa915acf97b9dad'), ObjectId('5e5523949aa915acf97b9dae'), ObjectId('5e5523949aa915acf97b9daf'), ObjectId('5e5523949aa915acf97b9db0'), ObjectId('5e5523949aa915acf97b9db1'), ObjectId('5e5523949aa915acf97b9db2'), ObjectId('5e5523949aa915acf97b9db3'), ObjectId('5e5523949aa915acf97b9db4'), ObjectId('5e5523949aa915acf97b9db5'), ObjectId('5e5523949aa915acf97b9db6'), ObjectId('5e5523949aa915acf97b9db7'), ObjectId('5e5523949aa915acf97b9db8'), ObjectId('5e5523949aa915acf97b9db9'), ObjectId('5e5523949aa915acf97b9dba'), ObjectId('5e5523949aa915acf97b9dbb'), ObjectId('5e5523949aa915acf97b9dbc'), ObjectId('5e5523949aa915acf97b9dbd'), ObjectId('5e5523949aa915acf97b9dbe'), ObjectId('5e5523949aa915acf97b9dbf'), ObjectId('5e5523949aa915acf97b9dc0'), ObjectId('5e5523949aa915acf97b9dc1'), ObjectId('5e5523949aa915acf97b9dc2'), ObjectId('5e5523949aa915acf97b9dc3'), ObjectId('5e5523949aa915acf97b9dc4'), ObjectId('5e5523949aa915acf97b9dc5'), ObjectId('5e5523949aa915acf97b9dc6'), ObjectId('5e5523949aa915acf97b9dc7'), ObjectId('5e5523949aa915acf97b9dc8'), ObjectId('5e5523949aa915acf97b9dc9'), ObjectId('5e5523949aa915acf97b9dca'), ObjectId('5e5523949aa915acf97b9dcb'), ObjectId('5e5523949aa915acf97b9dcc'), ObjectId('5e5523949aa915acf97b9dcd'), ObjectId('5e5523949aa915acf97b9dce'), ObjectId('5e5523949aa915acf97b9dcf'), ObjectId('5e5523949aa915acf97b9dd0'), ObjectId('5e5523949aa915acf97b9dd1'), ObjectId('5e5523949aa915acf97b9dd2'), ObjectId('5e5523949aa915acf97b9dd3'), ObjectId('5e5523949aa915acf97b9dd4'), ObjectId('5e5523949aa915acf97b9dd5'), ObjectId('5e5523949aa915acf97b9dd6'), ObjectId('5e5523949aa915acf97b9dd7'), ObjectId('5e5523949aa915acf97b9dd8'), ObjectId('5e5523949aa915acf97b9dd9'), ObjectId('5e5523949aa915acf97b9dda'), ObjectId('5e5523949aa915acf97b9ddb'), ObjectId('5e5523949aa915acf97b9ddc'), ObjectId('5e5523949aa915acf97b9ddd'), ObjectId('5e5523949aa915acf97b9dde'), ObjectId('5e5523949aa915acf97b9ddf'), ObjectId('5e5523949aa915acf97b9de0'), ObjectId('5e5523949aa915acf97b9de1'), ObjectId('5e5523949aa915acf97b9de2'), ObjectId('5e5523949aa915acf97b9de3'), ObjectId('5e5523949aa915acf97b9de4'), ObjectId('5e5523949aa915acf97b9de5'), ObjectId('5e5523949aa915acf97b9de6'), ObjectId('5e5523949aa915acf97b9de7'), ObjectId('5e5523949aa915acf97b9de8'), ObjectId('5e5523949aa915acf97b9de9'), ObjectId('5e5523949aa915acf97b9dea'), ObjectId('5e5523949aa915acf97b9deb'), ObjectId('5e5523949aa915acf97b9dec'), ObjectId('5e5523949aa915acf97b9ded'), ObjectId('5e5523949aa915acf97b9dee'), ObjectId('5e5523949aa915acf97b9def'), ObjectId('5e5523949aa915acf97b9df0'), ObjectId('5e5523949aa915acf97b9df1'), ObjectId('5e5523949aa915acf97b9df2'), ObjectId('5e5523949aa915acf97b9df3'), ObjectId('5e5523949aa915acf97b9df4'), ObjectId('5e5523949aa915acf97b9df5'), ObjectId('5e5523949aa915acf97b9df6'), ObjectId('5e5523949aa915acf97b9df7'), ObjectId('5e5523949aa915acf97b9df8'), ObjectId('5e5523949aa915acf97b9df9'), ObjectId('5e5523949aa915acf97b9dfa'), ObjectId('5e5523949aa915acf97b9dfb'), ObjectId('5e5523949aa915acf97b9dfc'), ObjectId('5e5523949aa915acf97b9dfd'), ObjectId('5e5523949aa915acf97b9dfe'), ObjectId('5e5523949aa915acf97b9dff'), ObjectId('5e5523949aa915acf97b9e00'), ObjectId('5e5523949aa915acf97b9e01'), ObjectId('5e5523949aa915acf97b9e02'), ObjectId('5e5523949aa915acf97b9e03'), ObjectId('5e5523949aa915acf97b9e04'), ObjectId('5e5523949aa915acf97b9e05'), ObjectId('5e5523949aa915acf97b9e06'), ObjectId('5e5523949aa915acf97b9e07'), ObjectId('5e5523949aa915acf97b9e08'), ObjectId('5e5523949aa915acf97b9e09'), ObjectId('5e5523949aa915acf97b9e0a'), ObjectId('5e5523949aa915acf97b9e0b'), ObjectId('5e5523949aa915acf97b9e0c'), ObjectId('5e5523949aa915acf97b9e0d'), ObjectId('5e5523949aa915acf97b9e0e'), ObjectId('5e5523949aa915acf97b9e0f'), ObjectId('5e5523949aa915acf97b9e10'), ObjectId('5e5523949aa915acf97b9e11'), ObjectId('5e5523949aa915acf97b9e12'), ObjectId('5e5523949aa915acf97b9e13'), ObjectId('5e5523949aa915acf97b9e14'), ObjectId('5e5523949aa915acf97b9e15'), ObjectId('5e5523949aa915acf97b9e16'), ObjectId('5e5523949aa915acf97b9e17'), ObjectId('5e5523949aa915acf97b9e18'), ObjectId('5e5523949aa915acf97b9e19'), ObjectId('5e5523949aa915acf97b9e1a'), ObjectId('5e5523949aa915acf97b9e1b'), ObjectId('5e5523949aa915acf97b9e1c'), ObjectId('5e5523949aa915acf97b9e1d'), ObjectId('5e5523949aa915acf97b9e1e'), ObjectId('5e5523949aa915acf97b9e1f'), ObjectId('5e5523949aa915acf97b9e20'), ObjectId('5e5523949aa915acf97b9e21'), ObjectId('5e5523949aa915acf97b9e22'), ObjectId('5e5523949aa915acf97b9e23'), ObjectId('5e5523949aa915acf97b9e24'), ObjectId('5e5523949aa915acf97b9e25'), ObjectId('5e5523949aa915acf97b9e26'), ObjectId('5e5523949aa915acf97b9e27'), ObjectId('5e5523949aa915acf97b9e28'), ObjectId('5e5523949aa915acf97b9e29'), ObjectId('5e5523949aa915acf97b9e2a'), ObjectId('5e5523949aa915acf97b9e2b'), ObjectId('5e5523949aa915acf97b9e2c'), ObjectId('5e5523949aa915acf97b9e2d'), ObjectId('5e5523949aa915acf97b9e2e'), ObjectId('5e5523949aa915acf97b9e2f'), ObjectId('5e5523949aa915acf97b9e30'), ObjectId('5e5523949aa915acf97b9e31'), ObjectId('5e5523949aa915acf97b9e32'), ObjectId('5e5523949aa915acf97b9e33'), ObjectId('5e5523949aa915acf97b9e34'), ObjectId('5e5523949aa915acf97b9e35'), ObjectId('5e5523949aa915acf97b9e36'), ObjectId('5e5523949aa915acf97b9e37'), ObjectId('5e5523949aa915acf97b9e38')]\n"
     ]
    }
   ],
   "source": [
    "#transformando df em dict e inserindo dados na collection\n",
    "dados = df.to_dict(orient='records')\n",
    "dados\n",
    "_ids = mycol.insert_many(dados)\n",
    "print(_ids.inserted_ids)"
   ]
  },
  {
   "cell_type": "code",
   "execution_count": 127,
   "metadata": {},
   "outputs": [
    {
     "data": {
      "text/html": [
       "<div>\n",
       "<style scoped>\n",
       "    .dataframe tbody tr th:only-of-type {\n",
       "        vertical-align: middle;\n",
       "    }\n",
       "\n",
       "    .dataframe tbody tr th {\n",
       "        vertical-align: top;\n",
       "    }\n",
       "\n",
       "    .dataframe thead th {\n",
       "        text-align: right;\n",
       "    }\n",
       "</style>\n",
       "<table border=\"1\" class=\"dataframe\">\n",
       "  <thead>\n",
       "    <tr style=\"text-align: right;\">\n",
       "      <th></th>\n",
       "      <th>_id</th>\n",
       "      <th>qte_banheiros</th>\n",
       "      <th>qte_quartos</th>\n",
       "      <th>area</th>\n",
       "      <th>cep</th>\n",
       "      <th>preco</th>\n",
       "    </tr>\n",
       "  </thead>\n",
       "  <tbody>\n",
       "    <tr>\n",
       "      <th>0</th>\n",
       "      <td>5e5523949aa915acf97b9c2f</td>\n",
       "      <td>100.0</td>\n",
       "      <td>100.0</td>\n",
       "      <td>3923</td>\n",
       "      <td>85266</td>\n",
       "      <td>889000.0</td>\n",
       "    </tr>\n",
       "    <tr>\n",
       "      <th>1</th>\n",
       "      <td>5e5523949aa915acf97b9c30</td>\n",
       "      <td>5.0</td>\n",
       "      <td>5.0</td>\n",
       "      <td>4022</td>\n",
       "      <td>85262</td>\n",
       "      <td>910000.0</td>\n",
       "    </tr>\n",
       "    <tr>\n",
       "      <th>2</th>\n",
       "      <td>5e5523949aa915acf97b9c31</td>\n",
       "      <td>4.0</td>\n",
       "      <td>3.0</td>\n",
       "      <td>4116</td>\n",
       "      <td>85266</td>\n",
       "      <td>971226.0</td>\n",
       "    </tr>\n",
       "    <tr>\n",
       "      <th>3</th>\n",
       "      <td>5e5523949aa915acf97b9c32</td>\n",
       "      <td>5.0</td>\n",
       "      <td>4.0</td>\n",
       "      <td>4581</td>\n",
       "      <td>85266</td>\n",
       "      <td>1249000.0</td>\n",
       "    </tr>\n",
       "    <tr>\n",
       "      <th>4</th>\n",
       "      <td>5e5523949aa915acf97b9c33</td>\n",
       "      <td>4.0</td>\n",
       "      <td>3.0</td>\n",
       "      <td>2544</td>\n",
       "      <td>85262</td>\n",
       "      <td>799000.0</td>\n",
       "    </tr>\n",
       "    <tr>\n",
       "      <th>...</th>\n",
       "      <td>...</td>\n",
       "      <td>...</td>\n",
       "      <td>...</td>\n",
       "      <td>...</td>\n",
       "      <td>...</td>\n",
       "      <td>...</td>\n",
       "    </tr>\n",
       "    <tr>\n",
       "      <th>517</th>\n",
       "      <td>5e5523949aa915acf97b9e34</td>\n",
       "      <td>2.0</td>\n",
       "      <td>5.0</td>\n",
       "      <td>2066</td>\n",
       "      <td>94531</td>\n",
       "      <td>399900.0</td>\n",
       "    </tr>\n",
       "    <tr>\n",
       "      <th>518</th>\n",
       "      <td>5e5523949aa915acf97b9e35</td>\n",
       "      <td>3.5</td>\n",
       "      <td>4.0</td>\n",
       "      <td>9536</td>\n",
       "      <td>94531</td>\n",
       "      <td>460000.0</td>\n",
       "    </tr>\n",
       "    <tr>\n",
       "      <th>519</th>\n",
       "      <td>5e5523949aa915acf97b9e36</td>\n",
       "      <td>2.0</td>\n",
       "      <td>3.0</td>\n",
       "      <td>2014</td>\n",
       "      <td>94531</td>\n",
       "      <td>407000.0</td>\n",
       "    </tr>\n",
       "    <tr>\n",
       "      <th>520</th>\n",
       "      <td>5e5523949aa915acf97b9e37</td>\n",
       "      <td>3.0</td>\n",
       "      <td>4.0</td>\n",
       "      <td>2312</td>\n",
       "      <td>94531</td>\n",
       "      <td>419000.0</td>\n",
       "    </tr>\n",
       "    <tr>\n",
       "      <th>521</th>\n",
       "      <td>5e5523949aa915acf97b9e38</td>\n",
       "      <td>3.0</td>\n",
       "      <td>5.0</td>\n",
       "      <td>3796</td>\n",
       "      <td>94531</td>\n",
       "      <td>615000.0</td>\n",
       "    </tr>\n",
       "  </tbody>\n",
       "</table>\n",
       "<p>522 rows × 6 columns</p>\n",
       "</div>"
      ],
      "text/plain": [
       "                          _id  qte_banheiros  qte_quartos  area    cep  \\\n",
       "0    5e5523949aa915acf97b9c2f          100.0        100.0  3923  85266   \n",
       "1    5e5523949aa915acf97b9c30            5.0          5.0  4022  85262   \n",
       "2    5e5523949aa915acf97b9c31            4.0          3.0  4116  85266   \n",
       "3    5e5523949aa915acf97b9c32            5.0          4.0  4581  85266   \n",
       "4    5e5523949aa915acf97b9c33            4.0          3.0  2544  85262   \n",
       "..                        ...            ...          ...   ...    ...   \n",
       "517  5e5523949aa915acf97b9e34            2.0          5.0  2066  94531   \n",
       "518  5e5523949aa915acf97b9e35            3.5          4.0  9536  94531   \n",
       "519  5e5523949aa915acf97b9e36            2.0          3.0  2014  94531   \n",
       "520  5e5523949aa915acf97b9e37            3.0          4.0  2312  94531   \n",
       "521  5e5523949aa915acf97b9e38            3.0          5.0  3796  94531   \n",
       "\n",
       "         preco  \n",
       "0     889000.0  \n",
       "1     910000.0  \n",
       "2     971226.0  \n",
       "3    1249000.0  \n",
       "4     799000.0  \n",
       "..         ...  \n",
       "517   399900.0  \n",
       "518   460000.0  \n",
       "519   407000.0  \n",
       "520   419000.0  \n",
       "521   615000.0  \n",
       "\n",
       "[522 rows x 6 columns]"
      ]
     },
     "execution_count": 127,
     "metadata": {},
     "output_type": "execute_result"
    }
   ],
   "source": [
    "#consultando dados da collection\n",
    "mydb = client[\"cadastro\"]\n",
    "mycol = mydb[\"imobiliaria\"]\n",
    "\n",
    "df = pd.DataFrame(mycol.find())\n",
    "df"
   ]
  },
  {
   "cell_type": "code",
   "execution_count": 89,
   "metadata": {},
   "outputs": [
    {
     "name": "stdout",
     "output_type": "stream",
     "text": [
      " * Serving Flask app \"__main__\" (lazy loading)\n",
      " * Environment: production\n",
      "   WARNING: This is a development server. Do not use it in a production deployment.\n",
      "   Use a production WSGI server instead.\n",
      " * Debug mode: off\n"
     ]
    },
    {
     "name": "stderr",
     "output_type": "stream",
     "text": [
      " * Running on http://127.0.0.1:5001/ (Press CTRL+C to quit)\n"
     ]
    },
    {
     "data": {
      "image/png": "[encoded data removed]",
      "text/plain": [
       "<Figure size 432x288 with 1 Axes>"
      ]
     },
     "metadata": {
      "needs_background": "light"
     },
     "output_type": "display_data"
    },
    {
     "name": "stderr",
     "output_type": "stream",
     "text": [
      "127.0.0.1 - - [25/Feb/2020 11:57:12] \"GET /area/3000/4000 HTTP/1.1\" 200 -\n"
     ]
    }
   ],
   "source": [
    "app = Flask(__name__)\n",
    "\n",
    "@app.route(\"/area/<area_min>/<area_max>\", methods=['GET'])\n",
    "def area(area_min, area_max):\n",
    "    area_min = int(area_min)\n",
    "    area_max = int(area_max)\n",
    "    \n",
    "    query = { \"$and\" : [{\"area\":{\"$gt\":area_min}}, {\"area\":{\"$lt\":area_max }} ]}\n",
    "    \n",
    "    try:\n",
    "        mydoc = mycol.find(query)\n",
    "        df = pd.DataFrame(mydoc)\n",
    "        \n",
    "        plt.scatter(df['area'], df['preco'])\n",
    "        plt.show()\n",
    "      \n",
    "        return df.to_json(default_handler=str, orient='records'), 200\n",
    "    except:\n",
    "        return \"Não foi possível fazer SELECT na tabela.\", 500\n",
    "\n",
    "app.run(port=5001)"
   ]
  },
  {
   "cell_type": "code",
   "execution_count": 97,
   "metadata": {},
   "outputs": [
    {
     "name": "stdout",
     "output_type": "stream",
     "text": [
      " * Serving Flask app \"__main__\" (lazy loading)\n",
      " * Environment: production\n",
      "   WARNING: This is a development server. Do not use it in a production deployment.\n",
      "   Use a production WSGI server instead.\n",
      " * Debug mode: off\n"
     ]
    },
    {
     "name": "stderr",
     "output_type": "stream",
     "text": [
      " * Running on http://127.0.0.1:5001/ (Press CTRL+C to quit)\n"
     ]
    },
    {
     "data": {
      "image/png": "[encoded data removed]",
      "text/plain": [
       "<Figure size 432x288 with 1 Axes>"
      ]
     },
     "metadata": {
      "needs_background": "light"
     },
     "output_type": "display_data"
    },
    {
     "name": "stderr",
     "output_type": "stream",
     "text": [
      "127.0.0.1 - - [25/Feb/2020 12:04:01] \"GET /maior_preco HTTP/1.1\" 200 -\n"
     ]
    }
   ],
   "source": [
    "@app.route(\"/maior_preco\", methods=['GET'])\n",
    "def maior_preco():\n",
    "\n",
    "    try:\n",
    "        mydoc = mycol.find().sort(\"preco\", -1).limit(15)\n",
    "        df = pd.DataFrame(mydoc)\n",
    "        \n",
    "        plt.plot(df['preco'], df['qte_quartos'])\n",
    "        plt.show()\n",
    "      \n",
    "        return df.to_json(default_handler=str, orient='records'), 200\n",
    "    except:\n",
    "        return \"Não foi possível fazer SELECT na tabela.\", 500\n",
    "\n",
    "app.run(port=5001)"
   ]
  },
  {
   "cell_type": "code",
   "execution_count": 106,
   "metadata": {},
   "outputs": [
    {
     "name": "stdout",
     "output_type": "stream",
     "text": [
      " * Serving Flask app \"__main__\" (lazy loading)\n",
      " * Environment: production\n",
      "   WARNING: This is a development server. Do not use it in a production deployment.\n",
      "   Use a production WSGI server instead.\n",
      " * Debug mode: off\n"
     ]
    },
    {
     "name": "stderr",
     "output_type": "stream",
     "text": [
      " * Running on http://127.0.0.1:5001/ (Press CTRL+C to quit)\n"
     ]
    },
    {
     "data": {
      "image/png": "[encoded data removed]",
      "text/plain": [
       "<Figure size 432x288 with 1 Axes>"
      ]
     },
     "metadata": {
      "needs_background": "light"
     },
     "output_type": "display_data"
    },
    {
     "name": "stderr",
     "output_type": "stream",
     "text": [
      "127.0.0.1 - - [25/Feb/2020 12:11:35] \"GET /qtdbanheiros/4 HTTP/1.1\" 200 -\n"
     ]
    }
   ],
   "source": [
    "@app.route(\"/qtdbanheiros/<qtd_ban>\", methods=['GET'])\n",
    "def qtdbanheiros(qtd_ban):\n",
    "    qtd_ban = int(qtd_ban)\n",
    "    query = { \"qte_banheiros\": qtd_ban }\n",
    "\n",
    "    try:\n",
    "        mydoc = mycol.find(query)\n",
    "        df = pd.DataFrame(mydoc)\n",
    "        \n",
    "        plt.hist(df['qte_quartos'])\n",
    "        plt.show()\n",
    "        \n",
    "        return df.to_json(default_handler=str, orient='records'), 200\n",
    "    except:\n",
    "        return \"Não foi possível fazer SELECT na tabela.\", 500\n",
    "\n",
    "app.run(port=5001)"
   ]
  },
  {
   "cell_type": "code",
   "execution_count": 136,
   "metadata": {},
   "outputs": [
    {
     "name": "stdout",
     "output_type": "stream",
     "text": [
      " * Serving Flask app \"__main__\" (lazy loading)\n",
      " * Environment: production\n",
      "   WARNING: This is a development server. Do not use it in a production deployment.\n",
      "   Use a production WSGI server instead.\n",
      " * Debug mode: off\n"
     ]
    },
    {
     "name": "stderr",
     "output_type": "stream",
     "text": [
      " * Running on http://127.0.0.1:5001/ (Press CTRL+C to quit)\n",
      "127.0.0.1 - - [25/Feb/2020 12:42:55] \"PUT /updatecep2 HTTP/1.1\" 200 -\n"
     ]
    }
   ],
   "source": [
    "@app.route(\"/updatecep2\", methods=['PUT'])\n",
    "def updatecep2():\n",
    "    post_args = request.json\n",
    "    if \"cep\" not in post_args:\n",
    "        return \"O cep não foi informado no dado recebido.\", 400\n",
    "    \n",
    "    filtro = { \"cep\": int(post_args[\"cep\"]) }\n",
    "    \n",
    "    if \"qte_quartos\" in post_args:\n",
    "        quartos=int(post_args[\"qte_quartos\"])\n",
    "        query = { \"$set\": { \"qte_quartos\": quartos } }\n",
    "        mycol.update_many(filtro, query)\n",
    "    if \"qte_banheiros\" in post_args:\n",
    "        quartos=int(post_args[\"qte_banheiros\"])\n",
    "        query = { \"$set\": { \"qte_banheiros\": quartos } }\n",
    "        mycol.update_many(filtro, query)\n",
    "    if \"area\" in post_args:\n",
    "        quartos=int(post_args[\"area\"])\n",
    "        query = { \"$set\": { \"area\": quartos } }\n",
    "        mycol.update_many(filtro, query)\n",
    "    if \"preco\" in post_args:\n",
    "        quartos=int(post_args[\"qte_preco\"])\n",
    "        query = { \"$set\": { \"qte_preco\": quartos } }\n",
    "        mycol.update_many(filtro, query)\n",
    "    return \"Registros atualizados com sucesso!\", 200\n",
    "\n",
    "app.run(port=5001)"
   ]
  },
  {
   "cell_type": "code",
   "execution_count": 139,
   "metadata": {},
   "outputs": [
    {
     "name": "stdout",
     "output_type": "stream",
     "text": [
      " * Serving Flask app \"__main__\" (lazy loading)\n",
      " * Environment: production\n",
      "   WARNING: This is a development server. Do not use it in a production deployment.\n",
      "   Use a production WSGI server instead.\n",
      " * Debug mode: off\n"
     ]
    },
    {
     "name": "stderr",
     "output_type": "stream",
     "text": [
      " * Running on http://127.0.0.1:5001/ (Press CTRL+C to quit)\n",
      "127.0.0.1 - - [25/Feb/2020 12:44:27] \"DELETE /deletar HTTP/1.1\" 200 -\n"
     ]
    }
   ],
   "source": [
    "@app.route(\"/deletar\", methods=['DELETE'])\n",
    "def deletar():\n",
    "    post_args = request.json\n",
    "    if \"cep\" not in post_args:\n",
    "        return \"O cep não foi informado.\", 400\n",
    "    \n",
    "    filtro = { \"cep\": int(post_args[\"cep\"]) }\n",
    "    mycol.delete_many(filtro)\n",
    "    \n",
    "    return \"Registros deletados com sucesso!\", 200\n",
    "\n",
    "app.run(port=5001)"
   ]
  },
  {
   "cell_type": "code",
   "execution_count": null,
   "metadata": {},
   "outputs": [],
   "source": []
  }
 ],
 "metadata": {
  "kernelspec": {
   "display_name": "Python 3",
   "language": "python",
   "name": "python3"
  },
  "language_info": {
   "codemirror_mode": {
    "name": "ipython",
    "version": 3
   },
   "file_extension": ".py",
   "mimetype": "text/x-python",
   "name": "python",
   "nbconvert_exporter": "python",
   "pygments_lexer": "ipython3",
   "version": "3.7.4"
  }
 },
 "nbformat": 4,
 "nbformat_minor": 2
}
